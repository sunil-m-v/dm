{
 "cells": [
  {
   "cell_type": "markdown",
   "metadata": {},
   "source": [
    "To run the application via rest end point interface"
   ]
  },
  {
   "cell_type": "code",
   "execution_count": 1,
   "metadata": {},
   "outputs": [],
   "source": [
    "import flask"
   ]
  },
  {
   "cell_type": "code",
   "execution_count": 2,
   "metadata": {},
   "outputs": [
    {
     "name": "stdout",
     "output_type": "stream",
     "text": [
      "Collecting flask\n",
      "  Downloading Flask-1.1.2-py2.py3-none-any.whl (94 kB)\n",
      "Collecting Jinja2>=2.10.1\n",
      "  Downloading Jinja2-2.11.3-py2.py3-none-any.whl (125 kB)\n",
      "Collecting itsdangerous>=0.24\n",
      "  Downloading itsdangerous-1.1.0-py2.py3-none-any.whl (16 kB)\n",
      "Collecting Werkzeug>=0.15\n",
      "  Downloading Werkzeug-1.0.1-py2.py3-none-any.whl (298 kB)\n",
      "Requirement already satisfied: click>=5.1 in c:\\users\\vmuvvala\\appdata\\local\\programs\\python\\python36\\lib\\site-packages (from flask) (7.1.2)\n",
      "Requirement already satisfied: MarkupSafe>=0.23 in c:\\users\\vmuvvala\\appdata\\local\\programs\\python\\python36\\lib\\site-packages (from Jinja2>=2.10.1->flask) (1.1.0)\n",
      "Installing collected packages: Werkzeug, Jinja2, itsdangerous, flask\n",
      "  Attempting uninstall: Werkzeug\n",
      "    Found existing installation: Werkzeug 0.14.1\n",
      "    Uninstalling Werkzeug-0.14.1:\n",
      "      Successfully uninstalled Werkzeug-0.14.1\n",
      "  Attempting uninstall: Jinja2\n",
      "    Found existing installation: Jinja2 2.10\n",
      "    Uninstalling Jinja2-2.10:\n",
      "      Successfully uninstalled Jinja2-2.10\n",
      "Successfully installed Jinja2-2.11.3 Werkzeug-1.0.1 flask-1.1.2 itsdangerous-1.1.0\n"
     ]
    }
   ],
   "source": [
    "#!pip install flask"
   ]
  },
  {
   "cell_type": "code",
   "execution_count": 2,
   "metadata": {},
   "outputs": [],
   "source": [
    "from flask import request\n",
    "app=flask.Flask(__name__)"
   ]
  },
  {
   "cell_type": "code",
   "execution_count": 6,
   "metadata": {},
   "outputs": [
    {
     "name": "stdout",
     "output_type": "stream",
     "text": [
      "Collecting flask_cors\n",
      "  Downloading Flask_Cors-3.0.10-py2.py3-none-any.whl (14 kB)\n",
      "Requirement already satisfied: Flask>=0.9 in c:\\users\\vmuvvala\\appdata\\local\\programs\\python\\python36\\lib\\site-packages (from flask_cors) (1.1.2)\n",
      "Requirement already satisfied: Six in c:\\users\\vmuvvala\\appdata\\local\\programs\\python\\python36\\lib\\site-packages (from flask_cors) (1.12.0)\n",
      "Requirement already satisfied: Werkzeug>=0.15 in c:\\users\\vmuvvala\\appdata\\local\\programs\\python\\python36\\lib\\site-packages (from Flask>=0.9->flask_cors) (1.0.1)\n",
      "Requirement already satisfied: itsdangerous>=0.24 in c:\\users\\vmuvvala\\appdata\\local\\programs\\python\\python36\\lib\\site-packages (from Flask>=0.9->flask_cors) (1.1.0)\n",
      "Requirement already satisfied: Jinja2>=2.10.1 in c:\\users\\vmuvvala\\appdata\\local\\programs\\python\\python36\\lib\\site-packages (from Flask>=0.9->flask_cors) (2.11.3)\n",
      "Requirement already satisfied: click>=5.1 in c:\\users\\vmuvvala\\appdata\\local\\programs\\python\\python36\\lib\\site-packages (from Flask>=0.9->flask_cors) (7.1.2)\n",
      "Requirement already satisfied: MarkupSafe>=0.23 in c:\\users\\vmuvvala\\appdata\\local\\programs\\python\\python36\\lib\\site-packages (from Jinja2>=2.10.1->Flask>=0.9->flask_cors) (1.1.0)\n",
      "Installing collected packages: flask-cors\n",
      "Successfully installed flask-cors-3.0.10\n"
     ]
    }
   ],
   "source": [
    "#!pip install flask_cors"
   ]
  },
  {
   "cell_type": "code",
   "execution_count": 3,
   "metadata": {},
   "outputs": [
    {
     "data": {
      "text/plain": [
       "<flask_cors.extension.CORS at 0x5776b00>"
      ]
     },
     "execution_count": 3,
     "metadata": {},
     "output_type": "execute_result"
    }
   ],
   "source": [
    "from flask_cors import CORS\n",
    "CORS(app)"
   ]
  },
  {
   "cell_type": "code",
   "execution_count": 4,
   "metadata": {},
   "outputs": [],
   "source": [
    "@app.route('/')\n",
    "def default():\n",
    "    return '<h1> API Server is working </h1>'"
   ]
  },
  {
   "cell_type": "code",
   "execution_count": 5,
   "metadata": {},
   "outputs": [],
   "source": [
    "@app.route('/predict')\n",
    "def predict():\n",
    "    from sklearn.externals import joblib\n",
    "    model=joblib.load('marriage_age_predic_model.ml')\n",
    "    #age_predict=model.predict([[1,2,5,6,5,175]])\n",
    "    age_predict=model.predict([[request.args['gender'],\n",
    "                                request.args['religion'],\n",
    "                                request.args['caste'],\n",
    "                                request.args['mother_tongue'],\n",
    "                                request.args['country'],\n",
    "                                request.args['height_cms']\n",
    "                                ]])\n",
    "    return str(age_predict)"
   ]
  },
  {
   "cell_type": "code",
   "execution_count": 6,
   "metadata": {},
   "outputs": [
    {
     "name": "stdout",
     "output_type": "stream",
     "text": [
      " * Serving Flask app \"__main__\" (lazy loading)\n",
      " * Environment: production\n",
      "   WARNING: This is a development server. Do not use it in a production deployment.\n",
      "   Use a production WSGI server instead.\n",
      " * Debug mode: on\n"
     ]
    },
    {
     "name": "stderr",
     "output_type": "stream",
     "text": [
      " * Restarting with stat\n"
     ]
    },
    {
     "ename": "SystemExit",
     "evalue": "1",
     "output_type": "error",
     "traceback": [
      "An exception has occurred, use %tb to see the full traceback.\n",
      "\u001b[1;31mSystemExit\u001b[0m\u001b[1;31m:\u001b[0m 1\n"
     ]
    },
    {
     "name": "stderr",
     "output_type": "stream",
     "text": [
      "c:\\users\\vmuvvala\\appdata\\local\\programs\\python\\python36\\lib\\site-packages\\IPython\\core\\interactiveshell.py:3275: UserWarning: To exit: use 'exit', 'quit', or Ctrl-D.\n",
      "  warn(\"To exit: use 'exit', 'quit', or Ctrl-D.\", stacklevel=1)\n"
     ]
    }
   ],
   "source": [
    "app.run(debug=True)"
   ]
  },
  {
   "cell_type": "markdown",
   "metadata": {},
   "source": [
    "##### download this file as app.py\n",
    "##### open command and navigate to the file location app.py\n",
    "##### type\n",
    "##### python app.py\n",
    "##### once the app has started\n",
    "##### open the browser and type  \n",
    "##### http://127.0.0.1:5000\n",
    "##### http://127.0.0.1:5000/predict"
   ]
  },
  {
   "cell_type": "markdown",
   "metadata": {},
   "source": [
    "e.g.\n",
    "http://127.0.0.1:5000/predict?gender=0&caste=2&religion=2&mother_tongue=5&country=5&height_cms=175"
   ]
  },
  {
   "cell_type": "code",
   "execution_count": null,
   "metadata": {},
   "outputs": [],
   "source": []
  }
 ],
 "metadata": {
  "kernelspec": {
   "display_name": "Python 3",
   "language": "python",
   "name": "python3"
  },
  "language_info": {
   "codemirror_mode": {
    "name": "ipython",
    "version": 3
   },
   "file_extension": ".py",
   "mimetype": "text/x-python",
   "name": "python",
   "nbconvert_exporter": "python",
   "pygments_lexer": "ipython3",
   "version": "3.6.5"
  }
 },
 "nbformat": 4,
 "nbformat_minor": 2
}
